{
 "cells": [
  {
   "cell_type": "markdown",
   "metadata": {
    "id": "qpI91b2JgRSZ"
   },
   "source": [
    "## Language Translator"
   ]
  },
  {
   "cell_type": "code",
   "execution_count": null,
   "metadata": {
    "id": "J_ySTKewSHea"
   },
   "outputs": [],
   "source": [
    "from keras.preprocessing.text import Tokenizer\r\n",
    "from keras.preprocessing.sequence import pad_sequences\r\n",
    "from keras.utils import to_categorical\r\n",
    "from keras.utils.vis_utils import plot_model\r\n",
    "from keras.models import Sequential\r\n",
    "from keras.layers import LSTM\r\n",
    "from keras.layers import Dense\r\n",
    "from keras.layers import Embedding\r\n",
    "from keras.layers import RepeatVector\r\n",
    "from keras.layers import TimeDistributed\r\n",
    "from keras.callbacks import ModelCheckpoint\r\n",
    "from keras.models import load_model\r\n",
    "from numpy import argmax\r\n",
    "import string\r\n",
    "import re\r\n",
    "from pickle import dump\r\n",
    "from unicodedata import normalize\r\n",
    "from numpy import array\r\n",
    "from keras.preprocessing.sequence import pad_sequences\r\n",
    "from keras.models import load_model\r\n",
    "from nltk.translate.bleu_score import corpus_bleu"
   ]
  },
  {
   "cell_type": "code",
   "execution_count": null,
   "metadata": {
    "colab": {
     "base_uri": "https://localhost:8080/"
    },
    "id": "sMD1Or2MoLkL",
    "outputId": "37cc5794-3c59-4ae5-d617-56b418e59e92"
   },
   "outputs": [
    {
     "name": "stdout",
     "output_type": "stream",
     "text": [
      "Drive already mounted at /content/drive; to attempt to forcibly remount, call drive.mount(\"/content/drive\", force_remount=True).\n"
     ]
    }
   ],
   "source": [
    "from google.colab import drive\r\n",
    "drive.mount('/content/drive')\r\n",
    "\r\n",
    "f=r'drive/MyDrive/Lighthouse/en-de.txt'"
   ]
  },
  {
   "cell_type": "code",
   "execution_count": null,
   "metadata": {
    "id": "ZbQ7uaoHvXgC"
   },
   "outputs": [],
   "source": [
    "\r\n",
    "\r\n",
    "# load doc into memory\r\n",
    "def load_doc(filename):\r\n",
    "\t# open the file as read only\r\n",
    "\tfile = open(filename, mode='rt', encoding='utf-8')\r\n",
    "\t# read all text\r\n",
    "\ttext = file.read()\r\n",
    "\t# close the file\r\n",
    "\tfile.close()\r\n",
    "\treturn text\r\n",
    "\r\n",
    "# split a loaded document into sentences\r\n",
    "def to_pairs(doc):\r\n",
    "\tlines = doc.strip().split('\\n')\r\n",
    "\tpairs = [line.split('\\t') for line in  lines]\r\n",
    "\treturn pairs\r\n",
    "\r\n",
    "# clean a list of lines\r\n",
    "def clean_pairs(lines):\r\n",
    "\tcleaned = list()\r\n",
    "\t# prepare regex for char filtering\r\n",
    "\tre_print = re.compile('[^%s]' % re.escape(string.printable))\r\n",
    "\t# prepare translation table for removing punctuation\r\n",
    "\ttable = str.maketrans('', '', string.punctuation)\r\n",
    "\tfor pair in lines:\r\n",
    "\t\tclean_pair = list()\r\n",
    "\t\tfor line in pair:\r\n",
    "\t\t\t# normalize unicode characters\r\n",
    "\t\t\tline = normalize('NFD', line).encode('ascii', 'ignore')\r\n",
    "\t\t\tline = line.decode('UTF-8')\r\n",
    "\t\t\t# tokenize on white space\r\n",
    "\t\t\tline = line.split()\r\n",
    "\t\t\t# convert to lowercase\r\n",
    "\t\t\tline = [word.lower() for word in line]\r\n",
    "\t\t\t# remove punctuation from each token\r\n",
    "\t\t\tline = [word.translate(table) for word in line]\r\n",
    "\t\t\t# remove non-printable chars form each token\r\n",
    "\t\t\tline = [re_print.sub('', w) for w in line]\r\n",
    "\t\t\t# remove tokens with numbers in them\r\n",
    "\t\t\tline = [word for word in line if word.isalpha()]\r\n",
    "\t\t\t# store as string\r\n",
    "\t\t\tclean_pair.append(' '.join(line))\r\n",
    "\t\tcleaned.append(clean_pair)\r\n",
    "\treturn array(cleaned)\r\n",
    "\r\n",
    "# save a list of clean sentences to file\r\n",
    "def save_clean_data(sentences, filename):\r\n",
    "\tdump(sentences, open(filename, 'wb'))\r\n",
    "\tprint('Saved: %s' % filename)\r\n",
    "\r\n",
    "# load dataset\r\n",
    "filename = f\r\n",
    "doc = load_doc(filename)\r\n",
    "# split into english-german pairs\r\n",
    "pairs = to_pairs(doc)\r\n",
    "# clean sentences\r\n",
    "clean_pairs = clean_pairs(pairs)\r\n"
   ]
  },
  {
   "cell_type": "code",
   "execution_count": null,
   "metadata": {
    "id": "1rX8I513y3oJ"
   },
   "outputs": [],
   "source": [
    "from pickle import load\r\n",
    "from pickle import dump\r\n",
    "from numpy.random import rand\r\n",
    "from numpy.random import shuffle\r\n",
    "\r\n",
    "# load a clean dataset\r\n",
    "def load_clean_sentences(filename):\r\n",
    "\treturn load(open(filename, 'rb'))\r\n",
    "\r\n",
    "# save a list of clean sentences to file\r\n",
    "def save_clean_data(sentences, filename):\r\n",
    "\tdump(sentences, open(filename, 'wb'))\r\n",
    "\tprint('Saved: %s' % filename)\r\n",
    "\r\n",
    "# load dataset\r\n",
    "raw_dataset = clean_pairs\r\n",
    "\r\n",
    "# reduce dataset size\r\n",
    "n_sentences = 60000\r\n",
    "dataset = raw_dataset[:n_sentences, :]\r\n",
    "# random shuffle\r\n",
    "shuffle(dataset)\r\n",
    "# split into train/test\r\n",
    "train, test = dataset[:50000], dataset[50000:]\r\n",
    "# save\r\n",
    "# save_clean_data(dataset, 'english-german-both.pkl')\r\n",
    "# save_clean_data(train, 'english-german-train.pkl')\r\n",
    "# save_clean_data(test, 'english-german-test.pkl')"
   ]
  },
  {
   "cell_type": "code",
   "execution_count": null,
   "metadata": {
    "colab": {
     "base_uri": "https://localhost:8080/"
    },
    "id": "eQn_k_VIy5aX",
    "outputId": "dd1efe57-7c69-4d06-8cc8-00a18c6c5e4b"
   },
   "outputs": [
    {
     "name": "stdout",
     "output_type": "stream",
     "text": [
      "English Vocabulary Size: 7512\n",
      "English Max Length: 8\n",
      "German Vocabulary Size: 13198\n",
      "German Max Length: 17\n"
     ]
    }
   ],
   "source": [
    "# fit a tokenizer\r\n",
    "def create_tokenizer(lines):\r\n",
    "\ttokenizer = Tokenizer()\r\n",
    "\ttokenizer.fit_on_texts(lines)\r\n",
    "\treturn tokenizer\r\n",
    "\r\n",
    "# max sentence length\r\n",
    "def max_length(lines):\r\n",
    "\treturn max(len(line.split()) for line in lines)\r\n",
    " \r\n",
    " \r\n",
    " # prepare english tokenizer\r\n",
    "eng_tokenizer = create_tokenizer(dataset[:, 0])\r\n",
    "eng_vocab_size = len(eng_tokenizer.word_index) + 1\r\n",
    "eng_length = max_length(dataset[:, 0])\r\n",
    "print('English Vocabulary Size: %d' % eng_vocab_size)\r\n",
    "print('English Max Length: %d' % (eng_length))\r\n",
    "# prepare german tokenizer\r\n",
    "ger_tokenizer = create_tokenizer(dataset[:, 1])\r\n",
    "ger_vocab_size = len(ger_tokenizer.word_index) + 1\r\n",
    "ger_length = max_length(dataset[:, 1])\r\n",
    "print('German Vocabulary Size: %d' % ger_vocab_size)\r\n",
    "print('German Max Length: %d' % (ger_length))"
   ]
  },
  {
   "cell_type": "code",
   "execution_count": null,
   "metadata": {
    "id": "WMHj6tlgOFdK"
   },
   "outputs": [],
   "source": [
    "# encode and pad sequences\r\n",
    "def encode_sequences(tokenizer, length, lines):\r\n",
    "\t# integer encode sequences\r\n",
    "\tX = tokenizer.texts_to_sequences(lines)\r\n",
    "\t# pad sequences with 0 values\r\n",
    "\tX = pad_sequences(X, maxlen=length, padding='post')\r\n",
    "\treturn X\r\n",
    "\r\n",
    "# one hot encode target sequence\r\n",
    "def encode_output(sequences, vocab_size):\r\n",
    "\tylist = list()\r\n",
    "\tfor sequence in sequences:\r\n",
    "\t\tencoded = to_categorical(sequence, num_classes=vocab_size)\r\n",
    "\t\tylist.append(encoded)\r\n",
    "\ty = array(ylist)\r\n",
    "\ty = y.reshape(sequences.shape[0], sequences.shape[1], vocab_size)\r\n",
    "\treturn y"
   ]
  },
  {
   "cell_type": "code",
   "execution_count": null,
   "metadata": {
    "id": "qgsPHvYqSt0D"
   },
   "outputs": [],
   "source": [
    "# prepare training data\r\n",
    "trainX = encode_sequences(ger_tokenizer, ger_length, train[:, 1])\r\n",
    "trainY = encode_sequences(eng_tokenizer, eng_length, train[:, 0])\r\n",
    "trainY = encode_output(trainY, eng_vocab_size)\r\n",
    "# prepare validation data\r\n",
    "testX = encode_sequences(ger_tokenizer, ger_length, test[:, 1])\r\n",
    "testY = encode_sequences(eng_tokenizer, eng_length, test[:, 0])\r\n",
    "testY = encode_output(testY, eng_vocab_size)"
   ]
  },
  {
   "cell_type": "code",
   "execution_count": null,
   "metadata": {
    "colab": {
     "base_uri": "https://localhost:8080/"
    },
    "id": "dMSdhodwWAuL",
    "outputId": "6d68a034-a3ef-4ffd-931b-073c4dc90c13"
   },
   "outputs": [
    {
     "data": {
      "text/plain": [
       "array([   2, 7320,  109, 1708,    0,    0,    0,    0,    0,    0,    0,\n",
       "          0,    0,    0,    0,    0,    0], dtype=int32)"
      ]
     },
     "execution_count": 13,
     "metadata": {
      "tags": []
     },
     "output_type": "execute_result"
    }
   ],
   "source": [
    "trainX[245]"
   ]
  },
  {
   "cell_type": "code",
   "execution_count": null,
   "metadata": {
    "colab": {
     "base_uri": "https://localhost:8080/",
     "height": 967
    },
    "id": "OvEMg52EWFDw",
    "outputId": "56012f29-d076-4378-ffb6-09f5641c754e"
   },
   "outputs": [
    {
     "name": "stdout",
     "output_type": "stream",
     "text": [
      "Model: \"sequential\"\n",
      "_________________________________________________________________\n",
      "Layer (type)                 Output Shape              Param #   \n",
      "=================================================================\n",
      "embedding (Embedding)        (None, 17, 256)           3378688   \n",
      "_________________________________________________________________\n",
      "lstm (LSTM)                  (None, 256)               525312    \n",
      "_________________________________________________________________\n",
      "repeat_vector (RepeatVector) (None, 8, 256)            0         \n",
      "_________________________________________________________________\n",
      "lstm_1 (LSTM)                (None, 8, 256)            525312    \n",
      "_________________________________________________________________\n",
      "time_distributed (TimeDistri (None, 8, 7512)           1930584   \n",
      "=================================================================\n",
      "Total params: 6,359,896\n",
      "Trainable params: 6,359,896\n",
      "Non-trainable params: 0\n",
      "_________________________________________________________________\n",
      "None\n"
     ]
    },
    {
     "data": {
      "image/png": "[encoded data removed]",
      "text/plain": [
       "<IPython.core.display.Image object>"
      ]
     },
     "execution_count": 10,
     "metadata": {
      "tags": []
     },
     "output_type": "execute_result"
    }
   ],
   "source": [
    "# define NMT model\r\n",
    "def define_model(src_vocab, tar_vocab, src_timesteps, tar_timesteps, n_units):\r\n",
    "\tmodel = Sequential()\r\n",
    "\tmodel.add(Embedding(src_vocab, n_units, input_length=src_timesteps, mask_zero=True))\r\n",
    "\tmodel.add(LSTM(n_units))\r\n",
    "\tmodel.add(RepeatVector(tar_timesteps))\r\n",
    "\tmodel.add(LSTM(n_units, return_sequences=True))\r\n",
    "\tmodel.add(TimeDistributed(Dense(tar_vocab, activation='softmax')))\r\n",
    "\treturn model\r\n",
    "\r\n",
    "# define model\r\n",
    "model = define_model(ger_vocab_size, eng_vocab_size, ger_length, eng_length, 256)\r\n",
    "model.compile(optimizer='adam', loss='categorical_crossentropy')\r\n",
    "# summarize defined model\r\n",
    "print(model.summary())\r\n",
    "plot_model(model, to_file='model.png', show_shapes=True)"
   ]
  },
  {
   "cell_type": "code",
   "execution_count": null,
   "metadata": {
    "colab": {
     "base_uri": "https://localhost:8080/",
     "height": 1000
    },
    "id": "Ng7fVqGeWX_v",
    "outputId": "8d99dc53-5e31-44ec-f874-bc7f481e3b31"
   },
   "outputs": [
    {
     "name": "stdout",
     "output_type": "stream",
     "text": [
      "Epoch 1/20\n",
      "1563/1563 - 279s - loss: 3.5163 - val_loss: 3.2455\n",
      "\n",
      "Epoch 00001: val_loss improved from inf to 3.24552, saving model to drive/MyDrive/Lighthouse/model_3.h5\n",
      "Epoch 2/20\n",
      "1563/1563 - 296s - loss: 2.9685 - val_loss: 2.7595\n",
      "\n",
      "Epoch 00002: val_loss improved from 3.24552 to 2.75949, saving model to drive/MyDrive/Lighthouse/model_3.h5\n",
      "Epoch 3/20\n",
      "1563/1563 - 342s - loss: 2.4444 - val_loss: 2.3023\n",
      "\n",
      "Epoch 00003: val_loss improved from 2.75949 to 2.30232, saving model to drive/MyDrive/Lighthouse/model_3.h5\n",
      "Epoch 4/20\n",
      "1563/1563 - 351s - loss: 1.9917 - val_loss: 2.0064\n",
      "\n",
      "Epoch 00004: val_loss improved from 2.30232 to 2.00641, saving model to drive/MyDrive/Lighthouse/model_3.h5\n",
      "Epoch 5/20\n",
      "1563/1563 - 341s - loss: 1.6469 - val_loss: 1.8154\n",
      "\n",
      "Epoch 00005: val_loss improved from 2.00641 to 1.81535, saving model to drive/MyDrive/Lighthouse/model_3.h5\n",
      "Epoch 6/20\n",
      "1563/1563 - 340s - loss: 1.3669 - val_loss: 1.6700\n",
      "\n",
      "Epoch 00006: val_loss improved from 1.81535 to 1.67004, saving model to drive/MyDrive/Lighthouse/model_3.h5\n",
      "Epoch 7/20\n",
      "1563/1563 - 341s - loss: 1.1381 - val_loss: 1.5839\n",
      "\n",
      "Epoch 00007: val_loss improved from 1.67004 to 1.58394, saving model to drive/MyDrive/Lighthouse/model_3.h5\n",
      "Epoch 8/20\n",
      "1563/1563 - 343s - loss: 0.9541 - val_loss: 1.5265\n",
      "\n",
      "Epoch 00008: val_loss improved from 1.58394 to 1.52650, saving model to drive/MyDrive/Lighthouse/model_3.h5\n",
      "Epoch 9/20\n",
      "1563/1563 - 340s - loss: 0.8083 - val_loss: 1.4946\n",
      "\n",
      "Epoch 00009: val_loss improved from 1.52650 to 1.49462, saving model to drive/MyDrive/Lighthouse/model_3.h5\n",
      "Epoch 10/20\n",
      "1563/1563 - 350s - loss: 0.6888 - val_loss: 1.4815\n",
      "\n",
      "Epoch 00010: val_loss improved from 1.49462 to 1.48151, saving model to drive/MyDrive/Lighthouse/model_3.h5\n",
      "Epoch 11/20\n",
      "1563/1563 - 356s - loss: 0.5948 - val_loss: 1.4815\n",
      "\n",
      "Epoch 00011: val_loss improved from 1.48151 to 1.48149, saving model to drive/MyDrive/Lighthouse/model_3.h5\n",
      "Epoch 12/20\n",
      "1563/1563 - 354s - loss: 0.5170 - val_loss: 1.4873\n",
      "\n",
      "Epoch 00012: val_loss did not improve from 1.48149\n",
      "Epoch 13/20\n",
      "1563/1563 - 323s - loss: 0.4520 - val_loss: 1.5072\n",
      "\n",
      "Epoch 00013: val_loss did not improve from 1.48149\n",
      "Epoch 14/20\n",
      "1563/1563 - 319s - loss: 0.3975 - val_loss: 1.5148\n",
      "\n",
      "Epoch 00014: val_loss did not improve from 1.48149\n",
      "Epoch 15/20\n"
     ]
    },
    {
     "ename": "KeyboardInterrupt",
     "evalue": "ignored",
     "output_type": "error",
     "traceback": [
      "\u001b[0;31m---------------------------------------------------------------------------\u001b[0m",
      "\u001b[0;31mKeyboardInterrupt\u001b[0m                         Traceback (most recent call last)",
      "\u001b[0;32m<ipython-input-12-e3d3a8eb0abb>\u001b[0m in \u001b[0;36m<module>\u001b[0;34m()\u001b[0m\n\u001b[1;32m      2\u001b[0m \u001b[0mfilename\u001b[0m \u001b[0;34m=\u001b[0m \u001b[0;34mr'drive/MyDrive/Lighthouse/model_3.h5'\u001b[0m\u001b[0;34m\u001b[0m\u001b[0;34m\u001b[0m\u001b[0m\n\u001b[1;32m      3\u001b[0m \u001b[0mcheckpoint\u001b[0m \u001b[0;34m=\u001b[0m \u001b[0mModelCheckpoint\u001b[0m\u001b[0;34m(\u001b[0m\u001b[0mfilename\u001b[0m\u001b[0;34m,\u001b[0m \u001b[0mmonitor\u001b[0m\u001b[0;34m=\u001b[0m\u001b[0;34m'val_loss'\u001b[0m\u001b[0;34m,\u001b[0m \u001b[0mverbose\u001b[0m\u001b[0;34m=\u001b[0m\u001b[0;36m1\u001b[0m\u001b[0;34m,\u001b[0m \u001b[0msave_best_only\u001b[0m\u001b[0;34m=\u001b[0m\u001b[0;32mTrue\u001b[0m\u001b[0;34m,\u001b[0m \u001b[0mmode\u001b[0m\u001b[0;34m=\u001b[0m\u001b[0;34m'min'\u001b[0m\u001b[0;34m)\u001b[0m\u001b[0;34m\u001b[0m\u001b[0;34m\u001b[0m\u001b[0m\n\u001b[0;32m----> 4\u001b[0;31m \u001b[0mmodel\u001b[0m\u001b[0;34m.\u001b[0m\u001b[0mfit\u001b[0m\u001b[0;34m(\u001b[0m\u001b[0mtrainX\u001b[0m\u001b[0;34m,\u001b[0m \u001b[0mtrainY\u001b[0m\u001b[0;34m,\u001b[0m \u001b[0mepochs\u001b[0m\u001b[0;34m=\u001b[0m\u001b[0;36m20\u001b[0m\u001b[0;34m,\u001b[0m \u001b[0mbatch_size\u001b[0m\u001b[0;34m=\u001b[0m\u001b[0;36m32\u001b[0m\u001b[0;34m,\u001b[0m \u001b[0mvalidation_data\u001b[0m\u001b[0;34m=\u001b[0m\u001b[0;34m(\u001b[0m\u001b[0mtestX\u001b[0m\u001b[0;34m,\u001b[0m \u001b[0mtestY\u001b[0m\u001b[0;34m)\u001b[0m\u001b[0;34m,\u001b[0m \u001b[0mcallbacks\u001b[0m\u001b[0;34m=\u001b[0m\u001b[0;34m[\u001b[0m\u001b[0mcheckpoint\u001b[0m\u001b[0;34m]\u001b[0m\u001b[0;34m,\u001b[0m \u001b[0mverbose\u001b[0m\u001b[0;34m=\u001b[0m\u001b[0;36m2\u001b[0m\u001b[0;34m)\u001b[0m\u001b[0;34m\u001b[0m\u001b[0;34m\u001b[0m\u001b[0m\n\u001b[0m",
      "\u001b[0;32m/usr/local/lib/python3.7/dist-packages/tensorflow/python/keras/engine/training.py\u001b[0m in \u001b[0;36mfit\u001b[0;34m(self, x, y, batch_size, epochs, verbose, callbacks, validation_split, validation_data, shuffle, class_weight, sample_weight, initial_epoch, steps_per_epoch, validation_steps, validation_batch_size, validation_freq, max_queue_size, workers, use_multiprocessing)\u001b[0m\n\u001b[1;32m   1098\u001b[0m                 _r=1):\n\u001b[1;32m   1099\u001b[0m               \u001b[0mcallbacks\u001b[0m\u001b[0;34m.\u001b[0m\u001b[0mon_train_batch_begin\u001b[0m\u001b[0;34m(\u001b[0m\u001b[0mstep\u001b[0m\u001b[0;34m)\u001b[0m\u001b[0;34m\u001b[0m\u001b[0;34m\u001b[0m\u001b[0m\n\u001b[0;32m-> 1100\u001b[0;31m               \u001b[0mtmp_logs\u001b[0m \u001b[0;34m=\u001b[0m \u001b[0mself\u001b[0m\u001b[0;34m.\u001b[0m\u001b[0mtrain_function\u001b[0m\u001b[0;34m(\u001b[0m\u001b[0miterator\u001b[0m\u001b[0;34m)\u001b[0m\u001b[0;34m\u001b[0m\u001b[0;34m\u001b[0m\u001b[0m\n\u001b[0m\u001b[1;32m   1101\u001b[0m               \u001b[0;32mif\u001b[0m \u001b[0mdata_handler\u001b[0m\u001b[0;34m.\u001b[0m\u001b[0mshould_sync\u001b[0m\u001b[0;34m:\u001b[0m\u001b[0;34m\u001b[0m\u001b[0;34m\u001b[0m\u001b[0m\n\u001b[1;32m   1102\u001b[0m                 \u001b[0mcontext\u001b[0m\u001b[0;34m.\u001b[0m\u001b[0masync_wait\u001b[0m\u001b[0;34m(\u001b[0m\u001b[0;34m)\u001b[0m\u001b[0;34m\u001b[0m\u001b[0;34m\u001b[0m\u001b[0m\n",
      "\u001b[0;32m/usr/local/lib/python3.7/dist-packages/tensorflow/python/eager/def_function.py\u001b[0m in \u001b[0;36m__call__\u001b[0;34m(self, *args, **kwds)\u001b[0m\n\u001b[1;32m    826\u001b[0m     \u001b[0mtracing_count\u001b[0m \u001b[0;34m=\u001b[0m \u001b[0mself\u001b[0m\u001b[0;34m.\u001b[0m\u001b[0mexperimental_get_tracing_count\u001b[0m\u001b[0;34m(\u001b[0m\u001b[0;34m)\u001b[0m\u001b[0;34m\u001b[0m\u001b[0;34m\u001b[0m\u001b[0m\n\u001b[1;32m    827\u001b[0m     \u001b[0;32mwith\u001b[0m \u001b[0mtrace\u001b[0m\u001b[0;34m.\u001b[0m\u001b[0mTrace\u001b[0m\u001b[0;34m(\u001b[0m\u001b[0mself\u001b[0m\u001b[0;34m.\u001b[0m\u001b[0m_name\u001b[0m\u001b[0;34m)\u001b[0m \u001b[0;32mas\u001b[0m \u001b[0mtm\u001b[0m\u001b[0;34m:\u001b[0m\u001b[0;34m\u001b[0m\u001b[0;34m\u001b[0m\u001b[0m\n\u001b[0;32m--> 828\u001b[0;31m       \u001b[0mresult\u001b[0m \u001b[0;34m=\u001b[0m \u001b[0mself\u001b[0m\u001b[0;34m.\u001b[0m\u001b[0m_call\u001b[0m\u001b[0;34m(\u001b[0m\u001b[0;34m*\u001b[0m\u001b[0margs\u001b[0m\u001b[0;34m,\u001b[0m \u001b[0;34m**\u001b[0m\u001b[0mkwds\u001b[0m\u001b[0;34m)\u001b[0m\u001b[0;34m\u001b[0m\u001b[0;34m\u001b[0m\u001b[0m\n\u001b[0m\u001b[1;32m    829\u001b[0m       \u001b[0mcompiler\u001b[0m \u001b[0;34m=\u001b[0m \u001b[0;34m\"xla\"\u001b[0m \u001b[0;32mif\u001b[0m \u001b[0mself\u001b[0m\u001b[0;34m.\u001b[0m\u001b[0m_experimental_compile\u001b[0m \u001b[0;32melse\u001b[0m \u001b[0;34m\"nonXla\"\u001b[0m\u001b[0;34m\u001b[0m\u001b[0;34m\u001b[0m\u001b[0m\n\u001b[1;32m    830\u001b[0m       \u001b[0mnew_tracing_count\u001b[0m \u001b[0;34m=\u001b[0m \u001b[0mself\u001b[0m\u001b[0;34m.\u001b[0m\u001b[0mexperimental_get_tracing_count\u001b[0m\u001b[0;34m(\u001b[0m\u001b[0;34m)\u001b[0m\u001b[0;34m\u001b[0m\u001b[0;34m\u001b[0m\u001b[0m\n",
      "\u001b[0;32m/usr/local/lib/python3.7/dist-packages/tensorflow/python/eager/def_function.py\u001b[0m in \u001b[0;36m_call\u001b[0;34m(self, *args, **kwds)\u001b[0m\n\u001b[1;32m    853\u001b[0m       \u001b[0;31m# In this case we have created variables on the first call, so we run the\u001b[0m\u001b[0;34m\u001b[0m\u001b[0;34m\u001b[0m\u001b[0;34m\u001b[0m\u001b[0m\n\u001b[1;32m    854\u001b[0m       \u001b[0;31m# defunned version which is guaranteed to never create variables.\u001b[0m\u001b[0;34m\u001b[0m\u001b[0;34m\u001b[0m\u001b[0;34m\u001b[0m\u001b[0m\n\u001b[0;32m--> 855\u001b[0;31m       \u001b[0;32mreturn\u001b[0m \u001b[0mself\u001b[0m\u001b[0;34m.\u001b[0m\u001b[0m_stateless_fn\u001b[0m\u001b[0;34m(\u001b[0m\u001b[0;34m*\u001b[0m\u001b[0margs\u001b[0m\u001b[0;34m,\u001b[0m \u001b[0;34m**\u001b[0m\u001b[0mkwds\u001b[0m\u001b[0;34m)\u001b[0m  \u001b[0;31m# pylint: disable=not-callable\u001b[0m\u001b[0;34m\u001b[0m\u001b[0;34m\u001b[0m\u001b[0m\n\u001b[0m\u001b[1;32m    856\u001b[0m     \u001b[0;32melif\u001b[0m \u001b[0mself\u001b[0m\u001b[0;34m.\u001b[0m\u001b[0m_stateful_fn\u001b[0m \u001b[0;32mis\u001b[0m \u001b[0;32mnot\u001b[0m \u001b[0;32mNone\u001b[0m\u001b[0;34m:\u001b[0m\u001b[0;34m\u001b[0m\u001b[0;34m\u001b[0m\u001b[0m\n\u001b[1;32m    857\u001b[0m       \u001b[0;31m# Release the lock early so that multiple threads can perform the call\u001b[0m\u001b[0;34m\u001b[0m\u001b[0;34m\u001b[0m\u001b[0;34m\u001b[0m\u001b[0m\n",
      "\u001b[0;32m/usr/local/lib/python3.7/dist-packages/tensorflow/python/eager/function.py\u001b[0m in \u001b[0;36m__call__\u001b[0;34m(self, *args, **kwargs)\u001b[0m\n\u001b[1;32m   2941\u001b[0m        filtered_flat_args) = self._maybe_define_function(args, kwargs)\n\u001b[1;32m   2942\u001b[0m     return graph_function._call_flat(\n\u001b[0;32m-> 2943\u001b[0;31m         filtered_flat_args, captured_inputs=graph_function.captured_inputs)  # pylint: disable=protected-access\n\u001b[0m\u001b[1;32m   2944\u001b[0m \u001b[0;34m\u001b[0m\u001b[0m\n\u001b[1;32m   2945\u001b[0m   \u001b[0;34m@\u001b[0m\u001b[0mproperty\u001b[0m\u001b[0;34m\u001b[0m\u001b[0;34m\u001b[0m\u001b[0m\n",
      "\u001b[0;32m/usr/local/lib/python3.7/dist-packages/tensorflow/python/eager/function.py\u001b[0m in \u001b[0;36m_call_flat\u001b[0;34m(self, args, captured_inputs, cancellation_manager)\u001b[0m\n\u001b[1;32m   1917\u001b[0m       \u001b[0;31m# No tape is watching; skip to running the function.\u001b[0m\u001b[0;34m\u001b[0m\u001b[0;34m\u001b[0m\u001b[0;34m\u001b[0m\u001b[0m\n\u001b[1;32m   1918\u001b[0m       return self._build_call_outputs(self._inference_function.call(\n\u001b[0;32m-> 1919\u001b[0;31m           ctx, args, cancellation_manager=cancellation_manager))\n\u001b[0m\u001b[1;32m   1920\u001b[0m     forward_backward = self._select_forward_and_backward_functions(\n\u001b[1;32m   1921\u001b[0m         \u001b[0margs\u001b[0m\u001b[0;34m,\u001b[0m\u001b[0;34m\u001b[0m\u001b[0;34m\u001b[0m\u001b[0m\n",
      "\u001b[0;32m/usr/local/lib/python3.7/dist-packages/tensorflow/python/eager/function.py\u001b[0m in \u001b[0;36mcall\u001b[0;34m(self, ctx, args, cancellation_manager)\u001b[0m\n\u001b[1;32m    558\u001b[0m               \u001b[0minputs\u001b[0m\u001b[0;34m=\u001b[0m\u001b[0margs\u001b[0m\u001b[0;34m,\u001b[0m\u001b[0;34m\u001b[0m\u001b[0;34m\u001b[0m\u001b[0m\n\u001b[1;32m    559\u001b[0m               \u001b[0mattrs\u001b[0m\u001b[0;34m=\u001b[0m\u001b[0mattrs\u001b[0m\u001b[0;34m,\u001b[0m\u001b[0;34m\u001b[0m\u001b[0;34m\u001b[0m\u001b[0m\n\u001b[0;32m--> 560\u001b[0;31m               ctx=ctx)\n\u001b[0m\u001b[1;32m    561\u001b[0m         \u001b[0;32melse\u001b[0m\u001b[0;34m:\u001b[0m\u001b[0;34m\u001b[0m\u001b[0;34m\u001b[0m\u001b[0m\n\u001b[1;32m    562\u001b[0m           outputs = execute.execute_with_cancellation(\n",
      "\u001b[0;32m/usr/local/lib/python3.7/dist-packages/tensorflow/python/eager/execute.py\u001b[0m in \u001b[0;36mquick_execute\u001b[0;34m(op_name, num_outputs, inputs, attrs, ctx, name)\u001b[0m\n\u001b[1;32m     58\u001b[0m     \u001b[0mctx\u001b[0m\u001b[0;34m.\u001b[0m\u001b[0mensure_initialized\u001b[0m\u001b[0;34m(\u001b[0m\u001b[0;34m)\u001b[0m\u001b[0;34m\u001b[0m\u001b[0;34m\u001b[0m\u001b[0m\n\u001b[1;32m     59\u001b[0m     tensors = pywrap_tfe.TFE_Py_Execute(ctx._handle, device_name, op_name,\n\u001b[0;32m---> 60\u001b[0;31m                                         inputs, attrs, num_outputs)\n\u001b[0m\u001b[1;32m     61\u001b[0m   \u001b[0;32mexcept\u001b[0m \u001b[0mcore\u001b[0m\u001b[0;34m.\u001b[0m\u001b[0m_NotOkStatusException\u001b[0m \u001b[0;32mas\u001b[0m \u001b[0me\u001b[0m\u001b[0;34m:\u001b[0m\u001b[0;34m\u001b[0m\u001b[0;34m\u001b[0m\u001b[0m\n\u001b[1;32m     62\u001b[0m     \u001b[0;32mif\u001b[0m \u001b[0mname\u001b[0m \u001b[0;32mis\u001b[0m \u001b[0;32mnot\u001b[0m \u001b[0;32mNone\u001b[0m\u001b[0;34m:\u001b[0m\u001b[0;34m\u001b[0m\u001b[0;34m\u001b[0m\u001b[0m\n",
      "\u001b[0;31mKeyboardInterrupt\u001b[0m: "
     ]
    }
   ],
   "source": [
    "# fit model\r\n",
    "filename = r'drive/MyDrive/Lighthouse/model_3.h5'\r\n",
    "checkpoint = ModelCheckpoint(filename, monitor='val_loss', verbose=1, save_best_only=True, mode='min')\r\n",
    "model.fit(trainX, trainY, epochs=20, batch_size=32, validation_data=(testX, testY), callbacks=[checkpoint], verbose=2)"
   ]
  },
  {
   "cell_type": "code",
   "execution_count": null,
   "metadata": {
    "id": "nJOvDM-RjK9B"
   },
   "outputs": [],
   "source": [
    "\r\n",
    "\r\n",
    "# map an integer to a word\r\n",
    "def word_for_id(integer, tokenizer):\r\n",
    "\tfor word, index in tokenizer.word_index.items():\r\n",
    "\t\tif index == integer:\r\n",
    "\t\t\treturn word\r\n",
    "\treturn None\r\n",
    "\r\n",
    "# generate target given source sequence\r\n",
    "def predict_sequence(model, tokenizer, source):\r\n",
    "\tprediction = model.predict(source, verbose=0)[0]\r\n",
    "\tintegers = [argmax(vector) for vector in prediction]\r\n",
    "\ttarget = list()\r\n",
    "\tfor i in integers:\r\n",
    "\t\tword = word_for_id(i, tokenizer)\r\n",
    "\t\tif word is None:\r\n",
    "\t\t\tbreak\r\n",
    "\t\ttarget.append(word)\r\n",
    "\treturn ' '.join(target)"
   ]
  },
  {
   "cell_type": "code",
   "execution_count": null,
   "metadata": {
    "id": "K1sT0yfIkY01"
   },
   "outputs": [],
   "source": [
    "# evaluate the skill of the model\r\n",
    "def evaluate_model(model, tokenizer, sources, raw_dataset):\r\n",
    "  actual, predicted = list(), list()\r\n",
    "  for i, source in enumerate(sources):\r\n",
    "    # translate encoded source text\r\n",
    "    source = source.reshape((1, source.shape[0]))\r\n",
    "    translation = predict_sequence(model, eng_tokenizer, source)\r\n",
    "    raw_target, raw_src = raw_dataset[i]\r\n",
    "    if i < 100:\r\n",
    "      print('src=[%s], target=[%s], predicted=[%s]' % (raw_src, raw_target, translation))\r\n",
    "      actual.append([raw_target.split()])\r\n",
    "      predicted.append(translation.split())\r\n",
    "    else:\r\n",
    "      break\r\n",
    "\r\n",
    "\r\n",
    "\t# calculate BLEU score\r\n",
    "  print('BLEU-1: %f' % corpus_bleu(actual, predicted, weights=(1.0, 0, 0, 0)))\r\n",
    "  print('BLEU-2: %f' % corpus_bleu(actual, predicted, weights=(0.5, 0.5, 0, 0)))\r\n",
    "  print('BLEU-3: %f' % corpus_bleu(actual, predicted, weights=(0.3, 0.3, 0.3, 0)))\r\n",
    "  print('BLEU-4: %f' % corpus_bleu(actual, predicted, weights=(0.25, 0.25, 0.25, 0.25)))"
   ]
  },
  {
   "cell_type": "code",
   "execution_count": null,
   "metadata": {
    "colab": {
     "base_uri": "https://localhost:8080/"
    },
    "id": "_CobwFhfnWov",
    "outputId": "b1e39ee9-c04d-43fb-efe2-678afcf117a9"
   },
   "outputs": [
    {
     "name": "stdout",
     "output_type": "stream",
     "text": [
      "test\n",
      "src=[mach bitte die tur zu], target=[please shut the door], predicted=[close the door door]\n",
      "src=[haben sie die tur offen gelassen], target=[did you leave the door open], predicted=[did you open the door]\n",
      "src=[ich verzehre mich danach dich zu sehen], target=[im dying to see you], predicted=[i am to to see see]\n",
      "src=[haben sie budweiser light], target=[do you have bud light], predicted=[do you have bud light]\n",
      "src=[ich verdiene ehrlich meinen lebensunterhalt], target=[i make an honest living], predicted=[i am into my my]\n",
      "src=[wie schmeckt es], target=[what does it taste like], predicted=[what does it taste]\n",
      "src=[tom ist photogen], target=[tom is photogenic], predicted=[tom is]\n",
      "src=[ich glaube ich muss mich ubergeben], target=[i feel like throwing up], predicted=[i think i should up]\n",
      "src=[wir werden schieen], target=[well shoot], predicted=[well shooting]\n",
      "src=[habt ihrs], target=[do you have it], predicted=[do you have]\n",
      "src=[toms ego wurde angeschlagen], target=[toms ego has been bruised], predicted=[toms strategy was work]\n",
      "src=[sie wissen ja wie es lauft], target=[you know the drill], predicted=[they know the drill]\n",
      "src=[du hast keine ahnung], target=[you dont have a clue], predicted=[you have no clue]\n",
      "src=[tom legte seine gabel ab], target=[tom put his fork down], predicted=[tom put on his milk]\n",
      "src=[hasse mich bitte nicht], target=[please dont hate me], predicted=[i dont dont me]\n",
      "src=[er offnete den kofferraum], target=[he popped the trunk], predicted=[he opened the cage]\n",
      "src=[tom ist mit dem taxi nach hause gefahren], target=[tom went home by taxi], predicted=[tom left up by by]\n",
      "src=[ich fragte warum tom sich verspatet habe], target=[i asked why tom was late], predicted=[i asked tom tom]\n",
      "src=[ich war imstande ihr zu helfen], target=[i was able to help her], predicted=[i was to to help help]\n",
      "src=[das ist ziemlich unerwartet], target=[that is rather unexpected], predicted=[this is quite absurd]\n",
      "src=[ein mensch muss ehrlich sein], target=[a man must be honest], predicted=[he man must be be]\n",
      "src=[fahre mit dem bus], target=[take a bus], predicted=[go with the bus]\n",
      "src=[zwei zum preis von einem], target=[buy one get one free], predicted=[two from from from]\n",
      "src=[morgen gehts ab in die turkei], target=[im off to turkey tomorrow], predicted=[ill be bloom tomorrow]\n",
      "src=[warst du schon mal in hokkaido], target=[have you been to hokkaido], predicted=[have you been to hokkaido]\n",
      "src=[er trug keinen hut], target=[he had no hat on], predicted=[he had no hat hat]\n",
      "src=[er ist plattenaufleger], target=[hes a dj], predicted=[hes is treatment cannon]\n",
      "src=[du bist sehr nett], target=[youre very nice], predicted=[youre very kind]\n",
      "src=[meiner mutter geht es besser], target=[my mothers feeling better], predicted=[my mother is angry angry]\n",
      "src=[deine krawatte sitzt schief], target=[your tie is crooked], predicted=[your dog is town]\n",
      "src=[ich habe wenig geld], target=[i have a little money], predicted=[i have little]\n",
      "src=[mein hauptfach ist linguistik], target=[my major is linguistics], predicted=[my major is linguistics]\n",
      "src=[haltst du dich fur klug], target=[do you think youre smart], predicted=[do you think youre smart]\n",
      "src=[ich gehe gewohnlich um funf heim], target=[i usually go home at five], predicted=[i usually go to at six]\n",
      "src=[es war sehr klein], target=[it was very small], predicted=[it was very small]\n",
      "src=[die idee ist nicht schlecht], target=[the idea isnt bad], predicted=[the idea isnt bad bad]\n",
      "src=[der stundenzeiger ist gebrochen], target=[the hour hand is broken], predicted=[the crankshaft is broken]\n",
      "src=[sie hat geholfen mittag zu machen], target=[she helped cook lunch], predicted=[she gave us us]\n",
      "src=[er versprach nichts zu sagen], target=[he promised not to tell], predicted=[he promised but but]\n",
      "src=[wir konnen hier nicht bleiben], target=[we cant stay here], predicted=[we cant stay here]\n",
      "src=[die leitung ist besetzt], target=[the line is engaged], predicted=[the is is expensive]\n",
      "src=[fragen wir ihn], target=[lets ask him], predicted=[lets him him]\n",
      "src=[ich bin ihnen nicht mehr bose], target=[im no longer angry at you], predicted=[im no longer angry at you]\n",
      "src=[sie arbeiten mit], target=[youre cooperating], predicted=[they cooperating working]\n",
      "src=[tom hat nicht viel gesagt], target=[tom didnt say much], predicted=[tom didnt say much much]\n",
      "src=[er war einfaltig], target=[he was naive], predicted=[he was heartbroken]\n",
      "src=[er wei wie man fisch grillt], target=[he knows how to grill fish], predicted=[he knows how to rich]\n",
      "src=[sie werden das hier bereuen], target=[you will regret this], predicted=[youll will regret]\n",
      "src=[ihr habt euch gar nicht verandert], target=[you havent changed at all], predicted=[you havent changed all]\n",
      "src=[keiner ermutigte sie], target=[nobody encouraged her], predicted=[no one encouraged her]\n",
      "src=[lasst uns spa haben], target=[lets have some fun], predicted=[lets have fun]\n",
      "src=[tom ist jetzt bei bewusstsein], target=[tom is conscious now], predicted=[tom is now]\n",
      "src=[ich will nicht erwachsen werden], target=[i dont want to grow up], predicted=[i dont want to study]\n",
      "src=[tom hat nicht die absicht uns zu schaden], target=[tom means us no harm], predicted=[tom didnt no that]\n",
      "src=[werdet ihr schon bedient], target=[have you been waited on], predicted=[have you ever up]\n",
      "src=[tom hat sich den rechten arm gebrochen], target=[tom broke his right arm], predicted=[tom broke his arm arm]\n",
      "src=[tu was dir beliebt], target=[do what you like], predicted=[do what that like]\n",
      "src=[ich wurde gerne wissen was tom gerade macht], target=[i wonder what tom is doing], predicted=[id like like what do do is]\n",
      "src=[das ist ein unerhebliches detail], target=[thats a minor detail], predicted=[this is a reputable]\n",
      "src=[er kam um micht abzuholen], target=[he came to pick me up], predicted=[he came to to to]\n",
      "src=[tom wohnt uber mir], target=[tom lives above me], predicted=[tom lives with me]\n",
      "src=[ich habe selbst mit tom gesprochen], target=[i spoke to tom myself], predicted=[i spoke to with tom]\n",
      "src=[das hier ist japan], target=[this is japan], predicted=[this is japan]\n",
      "src=[der hund sieht krank aus], target=[the dog seems sick], predicted=[the dog looks look]\n",
      "src=[du wirst daruber hinwegkommen], target=[youll get over it], predicted=[youll get over it]\n",
      "src=[ich wei nicht was ich will], target=[i dont know what i want], predicted=[i dont know what i want]\n",
      "src=[verschwinden sie augenblicklich von diesem schiff], target=[get off this ship right now], predicted=[keep on the ship ship]\n",
      "src=[du bist ruhig], target=[youre quiet], predicted=[youre quiet]\n",
      "src=[ich war noch nie verheiratet], target=[ive never been married], predicted=[ive never been married]\n",
      "src=[was machst du heute], target=[what are you doing today], predicted=[whatre are you doing today]\n",
      "src=[ich bin nicht gut im zeichnen], target=[i am poor at drawing], predicted=[im not a at at]\n",
      "src=[was ziehst du an], target=[what will you wear], predicted=[what are you]\n",
      "src=[hast du deine eltern belogen], target=[did you lie to your parents], predicted=[have you mind your parents parents]\n",
      "src=[tom hat sie gefunden], target=[tom found it], predicted=[tom found tom]\n",
      "src=[tom hat das thema angesprochen], target=[tom brought up the subject], predicted=[tom told that the]\n",
      "src=[in welche richtung ist er gegangen], target=[which direction did he go], predicted=[which likes is to work]\n",
      "src=[es nimmt kein ende], target=[this is never going to end], predicted=[theres no no]\n",
      "src=[woruber habt ihr gesprochen], target=[what did you talk about], predicted=[what did you expect to]\n",
      "src=[du kannst ganz beruhigt sein], target=[you dont need to worry], predicted=[you cant use to to]\n",
      "src=[was ist der unterschied], target=[whats the difference], predicted=[what is the]\n",
      "src=[geh nach hause ruhe dich etwas aus], target=[go home get some rest], predicted=[go home your with]\n",
      "src=[tom hat eine menge arger], target=[tom is in a lot of trouble], predicted=[tom has a bright]\n",
      "src=[sie hat mich angeschaut], target=[she looked at me], predicted=[she looked at me]\n",
      "src=[fuhrst du ein tagebuch], target=[do you keep a diary], predicted=[have you a diary]\n",
      "src=[ich weigere mich das zu tun], target=[i refuse to do it], predicted=[i feel to do]\n",
      "src=[er lag auf dem rasen], target=[he was lying on the grass], predicted=[he was on the couch]\n",
      "src=[tom fallte einen kirschbaum], target=[tom cut down a cherry tree], predicted=[tom put down in in tree]\n",
      "src=[das ist erbarmlich], target=[this is pathetic], predicted=[thats is]\n",
      "src=[so lautet das gesetz], target=[thats the law], predicted=[thats the the]\n",
      "src=[ihre hochzeit ist morgen], target=[their wedding is tomorrow], predicted=[your shift tomorrow]\n",
      "src=[was riecht hier so furchtbar], target=[whats that awful smell], predicted=[what was your different]\n",
      "src=[die madchen mogen dich nicht], target=[girls dont like you], predicted=[the girls like like]\n",
      "src=[bauen wir etwas], target=[lets build something], predicted=[lets we enjoying]\n",
      "src=[tom lugt], target=[toms lying], predicted=[tom is lying]\n",
      "src=[was mache ich denn jetzt], target=[what am i going to do now], predicted=[what am i doing now now]\n",
      "src=[als ich aufwachte schneite es], target=[i awoke to find it snowing], predicted=[i i in in it]\n",
      "src=[ich spiele gitarre], target=[i play the guitar], predicted=[i am playing guitar]\n",
      "src=[du wirst noch im gefangnis landen], target=[youll end up in jail], predicted=[you will in in in]\n",
      "src=[dich hat keiner gefragt], target=[no one asked you], predicted=[no no asked questions]\n",
      "src=[ich muss mich wieder an die arbeit machen], target=[i must get back to my work], predicted=[i have to go to work work]\n",
      "BLEU-1: 0.559361\n",
      "BLEU-2: 0.428842\n",
      "BLEU-3: 0.380161\n",
      "BLEU-4: 0.282506\n"
     ]
    }
   ],
   "source": [
    "# load model\r\n",
    "model = load_model('drive/MyDrive/Lighthouse/model_3.h5')\r\n",
    "# test on some training sequences\r\n",
    "# print('train')\r\n",
    "# evaluate_model(model, eng_tokenizer, trainX, train)\r\n",
    "# test on some test sequences\r\n",
    "print('test')\r\n",
    "evaluate_model(model, eng_tokenizer, testX, test)"
   ]
  },
  {
   "cell_type": "code",
   "execution_count": null,
   "metadata": {
    "id": "At4cr7UYnWvM"
   },
   "outputs": [],
   "source": []
  },
  {
   "cell_type": "code",
   "execution_count": null,
   "metadata": {
    "id": "2edTsBj0nW1e"
   },
   "outputs": [],
   "source": []
  }
 ],
 "metadata": {
  "colab": {
   "machine_shape": "hm",
   "name": "mini_project_V.ipynb",
   "provenance": []
  },
  "kernelspec": {
   "display_name": "Python 3",
   "language": "python",
   "name": "python3"
  },
  "language_info": {
   "codemirror_mode": {
    "name": "ipython",
    "version": 3
   },
   "file_extension": ".py",
   "mimetype": "text/x-python",
   "name": "python",
   "nbconvert_exporter": "python",
   "pygments_lexer": "ipython3",
   "version": "3.8.2"
  }
 },
 "nbformat": 4,
 "nbformat_minor": 4
}
